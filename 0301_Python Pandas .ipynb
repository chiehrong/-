{
 "cells": [
  {
   "cell_type": "code",
   "execution_count": 1,
   "id": "f81e44c2",
   "metadata": {},
   "outputs": [
    {
     "data": {
      "text/plain": [
       "'1.2.4'"
      ]
     },
     "execution_count": 1,
     "metadata": {},
     "output_type": "execute_result"
    }
   ],
   "source": [
    "import pandas as pd\n",
    "pd.__version__"
   ]
  },
  {
   "cell_type": "code",
   "execution_count": 5,
   "id": "f00fe809",
   "metadata": {},
   "outputs": [
    {
     "name": "stdout",
     "output_type": "stream",
     "text": [
      "小謝    2\n",
      "小金    1\n",
      "小峰    7\n",
      "小象    3\n",
      "dtype: int64\n",
      "-------------\n",
      "7\n"
     ]
    }
   ],
   "source": [
    "# 引入 pandas 套件，使用別名 pd 可以少打字\n",
    "import pandas as pd\n",
    "\n",
    "# 建立 Series 物件，傳入 list 當作參數\n",
    "series_1 = pd.Series([2, 1, 7, 3],index=['小謝','小金','小峰','小象'])\n",
    "print(series_1)\n",
    "print('-------------')\n",
    "print(series_1['小峰'])"
   ]
  },
  {
   "cell_type": "code",
   "execution_count": 10,
   "id": "e4af0d50",
   "metadata": {},
   "outputs": [
    {
     "name": "stdout",
     "output_type": "stream",
     "text": [
      "  students name  grades-Chinese  grades-English\n",
      "0           謝金鳳              85              88\n",
      "1           陳秋振              71              89\n",
      "2           馮壓力              68              92\n",
      "3           蘇美辣              65              95\n"
     ]
    }
   ],
   "source": [
    "# 引入 pandas 套件，使用別名 pd 可以少打字\n",
    "import pandas as pd\n",
    "\n",
    "# 準備傳入 \n",
    "data = {\n",
    "    'students name': ['謝金鳳', '陳秋振', '馮壓力', '蘇美辣'],\n",
    "    'grades-Chinese': [85, 71, 68, 65],\n",
    "    'grades-English': [88, 89, 92, 95]\n",
    "}\n",
    "\n",
    "# 建立 DataFrame 物件\n",
    "student_df = pd.DataFrame(data)\n",
    "\n",
    "print(student_df)"
   ]
  },
  {
   "cell_type": "code",
   "execution_count": 23,
   "id": "29ad62cf",
   "metadata": {},
   "outputs": [
    {
     "name": "stdout",
     "output_type": "stream",
     "text": [
      "  students name  grades-Chinese  grades-English  grades-Math\n",
      "0           謝金鳳              85              90           95\n",
      "1           陳秋振              71              89           80\n",
      "2           馮壓力              68              92           82\n",
      "3           蘇美辣              65              95           77\n",
      "------------------------\n",
      "篩選math大於80分的資料集：\n",
      "0     True\n",
      "1     True\n",
      "2     True\n",
      "3    False\n",
      "Name: grades-Math, dtype: bool\n",
      "------------------------\n",
      "篩選name欄位包含'謝金鳳'：\n",
      "  students name  grades-Chinese  grades-English  grades-Math\n",
      "0           謝金鳳              85              90           95\n",
      "------------------------\n",
      "篩選name欄位包含'美'：\n",
      "  students name  grades-Chinese  grades-English  grades-Math\n",
      "3           蘇美辣              65              95           77\n",
      "------------------------\n",
      "英文成績，遞減排序\n",
      "  students name  grades-Chinese  grades-English  grades-Math\n",
      "3           蘇美辣              65              95           77\n",
      "2           馮壓力              68              92           82\n",
      "0           謝金鳳              85              90           95\n",
      "1           陳秋振              71              89           80\n"
     ]
    }
   ],
   "source": [
    "# 引入 pandas 套件，使用別名 pd 可以少打字\n",
    "import pandas as pd\n",
    "\n",
    "# 準備傳入 \n",
    "data = {\n",
    "    'students name': ['謝金鳳', '陳秋振', '馮壓力', '蘇美辣'],\n",
    "    'grades-Chinese': [85, 71, 68, 65],\n",
    "    'grades-English': [90, 89, 92, 95],\n",
    "    'grades-Math':[95,80,82,77]\n",
    "}\n",
    "\n",
    "# 建立 DataFrame 物件\n",
    "student_df = pd.DataFrame(data)\n",
    "print(student_df)\n",
    "print('------------------------')\n",
    "print(\"篩選math大於80分的資料集：\")\n",
    "print(student_df[\"grades-Math\"]>= 80)\n",
    "print('------------------------')\n",
    "print(\"篩選name欄位包含'謝金鳳'：\")\n",
    "print(student_df[student_df[\"students name\"].isin([\"謝金鳳\"])])\n",
    "print('------------------------')\n",
    "print(\"篩選name欄位包含'美'：\")\n",
    "print(student_df[student_df[\"students name\"].str.contains(\"美\")])\n",
    "print('------------------------')\n",
    "print(\"英文成績，遞減排序\")\n",
    "print(student_df.sort_values([\"grades-English\"], ascending=False))\n"
   ]
  },
  {
   "cell_type": "code",
   "execution_count": 30,
   "id": "43eca0e6",
   "metadata": {},
   "outputs": [
    {
     "name": "stdout",
     "output_type": "stream",
     "text": [
      "資料數量 16\n",
      "資料型態 (4, 4)\n",
      "資料索引 RangeIndex(start=0, stop=4, step=1)\n",
      "英文分數平均 91.5\n",
      "中中分數最高 85\n",
      "  name  grades-Chinese  grades-English  grades-Math    average\n",
      "0  謝金鳳              85              90           95  90.000000\n",
      "1  陳秋振              71              89           80  80.000000\n",
      "2  馮壓力              68              92           82  80.666667\n",
      "3  蘇美辣              65              95           77  79.000000\n"
     ]
    }
   ],
   "source": [
    "# 引入 pandas 套件，使用別名 pd 可以少打字\n",
    "import pandas as pd\n",
    "\n",
    "# 準備傳入 \n",
    "data = {\n",
    "    'name': ['謝金鳳', '陳秋振', '馮壓力', '蘇美辣'],\n",
    "    'grades-Chinese': [85, 71, 68, 65],\n",
    "    'grades-English': [90, 89, 92, 95],\n",
    "    'grades-Math':[95,80,82,77]\n",
    "}\n",
    "\n",
    "# 建立 DataFrame 物件\n",
    "student_df = pd.DataFrame(data)\n",
    "print(\"資料數量\", student_df.size)\n",
    "print(\"資料型態\", student_df.shape)\n",
    "print(\"資料索引\", student_df.index)\n",
    "print(\"英文分數平均\", student_df[\"grades-English\"].mean())\n",
    "print(\"中中分數最高\", student_df[\"grades-Chinese\"].max())\n",
    "student_df[\"average\"]=(student_df[\"grades-Chinese\"]+student_df[\"grades-English\"]+student_df[\"grades-Math\"])/3\n",
    "print(student_df)"
   ]
  },
  {
   "cell_type": "code",
   "execution_count": 36,
   "id": "b0099513",
   "metadata": {},
   "outputs": [],
   "source": [
    "student_df.to_csv('test1.csv', index=False, header = True , encoding=\"utf_8_sig\")"
   ]
  },
  {
   "cell_type": "code",
   "execution_count": null,
   "id": "c9a54bf1",
   "metadata": {},
   "outputs": [],
   "source": [
    "#下載台股代碼清單\n",
    "import requests\n",
    "import numpy as np\n",
    "import pandas as pd\n",
    "\n",
    "link = 'https://quality.data.gov.tw/dq_download_json.php?nid=11549&md5_url=bb878d47ffbe7b83bfc1b41d0b24946e'\n",
    "r = requests.get(link)\n",
    "data = pd.DataFrame(r.json())\n",
    "\n",
    "data.to_csv('台股代碼清單.csv', index=False, header = True, encoding=\"utf_8_sig\")"
   ]
  },
  {
   "cell_type": "code",
   "execution_count": 54,
   "id": "b9cc366e",
   "metadata": {},
   "outputs": [
    {
     "name": "stdout",
     "output_type": "stream",
     "text": [
      "keyword, please...元大台灣50\n",
      "軟體數量 3\n"
     ]
    }
   ],
   "source": [
    "import pandas as pd\n",
    "data=pd.read_csv(\"台股代碼清單.csv\")\n",
    "keyword=input(\"keyword, please...\")\n",
    "condition=data[\"證券名稱\"].str.contains(keyword, case=False)\n",
    "print(\"軟體數量\", data[condition].shape[0])"
   ]
  },
  {
   "cell_type": "code",
   "execution_count": null,
   "id": "2cbed699",
   "metadata": {},
   "outputs": [],
   "source": []
  }
 ],
 "metadata": {
  "kernelspec": {
   "display_name": "Python 3",
   "language": "python",
   "name": "python3"
  },
  "language_info": {
   "codemirror_mode": {
    "name": "ipython",
    "version": 3
   },
   "file_extension": ".py",
   "mimetype": "text/x-python",
   "name": "python",
   "nbconvert_exporter": "python",
   "pygments_lexer": "ipython3",
   "version": "3.8.8"
  }
 },
 "nbformat": 4,
 "nbformat_minor": 5
}
